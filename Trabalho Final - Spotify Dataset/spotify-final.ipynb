{
 "cells": [
  {
   "cell_type": "code",
   "execution_count": 1,
   "id": "a180cb46",
   "metadata": {
    "_cell_guid": "b1076dfc-b9ad-4769-8c92-a6c4dae69d19",
    "_uuid": "8f2839f25d086af736a60e9eeb907d3b93b6e0e5",
    "execution": {
     "iopub.execute_input": "2021-08-01T23:47:44.155918Z",
     "iopub.status.busy": "2021-08-01T23:47:44.154382Z",
     "iopub.status.idle": "2021-08-01T23:47:47.453916Z",
     "shell.execute_reply": "2021-08-01T23:47:47.454575Z",
     "shell.execute_reply.started": "2021-08-01T22:25:39.63456Z"
    },
    "papermill": {
     "duration": 3.318023,
     "end_time": "2021-08-01T23:47:47.454996",
     "exception": false,
     "start_time": "2021-08-01T23:47:44.136973",
     "status": "completed"
    },
    "tags": []
   },
   "outputs": [
    {
     "data": {
      "text/html": [
       "<div>\n",
       "<style scoped>\n",
       "    .dataframe tbody tr th:only-of-type {\n",
       "        vertical-align: middle;\n",
       "    }\n",
       "\n",
       "    .dataframe tbody tr th {\n",
       "        vertical-align: top;\n",
       "    }\n",
       "\n",
       "    .dataframe thead th {\n",
       "        text-align: right;\n",
       "    }\n",
       "</style>\n",
       "<table border=\"1\" class=\"dataframe\">\n",
       "  <thead>\n",
       "    <tr style=\"text-align: right;\">\n",
       "      <th></th>\n",
       "      <th>genre</th>\n",
       "      <th>popularity</th>\n",
       "      <th>acousticness</th>\n",
       "      <th>danceability</th>\n",
       "      <th>duration_ms</th>\n",
       "      <th>energy</th>\n",
       "      <th>instrumentalness</th>\n",
       "      <th>key</th>\n",
       "      <th>liveness</th>\n",
       "      <th>loudness</th>\n",
       "      <th>mode</th>\n",
       "      <th>speechiness</th>\n",
       "      <th>tempo</th>\n",
       "      <th>valence</th>\n",
       "    </tr>\n",
       "  </thead>\n",
       "  <tbody>\n",
       "    <tr>\n",
       "      <th>67421</th>\n",
       "      <td>Hip-Hop</td>\n",
       "      <td>67</td>\n",
       "      <td>0.030300</td>\n",
       "      <td>0.856</td>\n",
       "      <td>145427</td>\n",
       "      <td>0.526</td>\n",
       "      <td>0.000000</td>\n",
       "      <td>2</td>\n",
       "      <td>0.1030</td>\n",
       "      <td>-6.510</td>\n",
       "      <td>1</td>\n",
       "      <td>0.3740</td>\n",
       "      <td>99.958</td>\n",
       "      <td>0.112</td>\n",
       "    </tr>\n",
       "    <tr>\n",
       "      <th>88953</th>\n",
       "      <td>Hip-Hop</td>\n",
       "      <td>52</td>\n",
       "      <td>0.000686</td>\n",
       "      <td>0.770</td>\n",
       "      <td>119084</td>\n",
       "      <td>0.633</td>\n",
       "      <td>0.000000</td>\n",
       "      <td>2</td>\n",
       "      <td>0.1580</td>\n",
       "      <td>-8.404</td>\n",
       "      <td>1</td>\n",
       "      <td>0.2790</td>\n",
       "      <td>139.939</td>\n",
       "      <td>0.534</td>\n",
       "    </tr>\n",
       "    <tr>\n",
       "      <th>5220</th>\n",
       "      <td>Alternative</td>\n",
       "      <td>50</td>\n",
       "      <td>0.037800</td>\n",
       "      <td>0.894</td>\n",
       "      <td>251381</td>\n",
       "      <td>0.569</td>\n",
       "      <td>0.000099</td>\n",
       "      <td>3</td>\n",
       "      <td>0.0636</td>\n",
       "      <td>-7.144</td>\n",
       "      <td>1</td>\n",
       "      <td>0.0406</td>\n",
       "      <td>110.005</td>\n",
       "      <td>0.827</td>\n",
       "    </tr>\n",
       "    <tr>\n",
       "      <th>176962</th>\n",
       "      <td>Jazz</td>\n",
       "      <td>39</td>\n",
       "      <td>0.416000</td>\n",
       "      <td>0.485</td>\n",
       "      <td>271000</td>\n",
       "      <td>0.432</td>\n",
       "      <td>0.006740</td>\n",
       "      <td>1</td>\n",
       "      <td>0.1970</td>\n",
       "      <td>-8.261</td>\n",
       "      <td>0</td>\n",
       "      <td>0.0324</td>\n",
       "      <td>74.769</td>\n",
       "      <td>0.214</td>\n",
       "    </tr>\n",
       "    <tr>\n",
       "      <th>131670</th>\n",
       "      <td>Reggae</td>\n",
       "      <td>44</td>\n",
       "      <td>0.250000</td>\n",
       "      <td>0.852</td>\n",
       "      <td>185882</td>\n",
       "      <td>0.812</td>\n",
       "      <td>0.000000</td>\n",
       "      <td>12</td>\n",
       "      <td>0.2060</td>\n",
       "      <td>-5.059</td>\n",
       "      <td>1</td>\n",
       "      <td>0.0964</td>\n",
       "      <td>101.973</td>\n",
       "      <td>0.834</td>\n",
       "    </tr>\n",
       "  </tbody>\n",
       "</table>\n",
       "</div>"
      ],
      "text/plain": [
       "              genre  popularity  acousticness  danceability  duration_ms  \\\n",
       "67421       Hip-Hop          67      0.030300         0.856       145427   \n",
       "88953       Hip-Hop          52      0.000686         0.770       119084   \n",
       "5220    Alternative          50      0.037800         0.894       251381   \n",
       "176962         Jazz          39      0.416000         0.485       271000   \n",
       "131670       Reggae          44      0.250000         0.852       185882   \n",
       "\n",
       "        energy  instrumentalness  key  liveness  loudness  mode  speechiness  \\\n",
       "67421    0.526          0.000000    2    0.1030    -6.510     1       0.3740   \n",
       "88953    0.633          0.000000    2    0.1580    -8.404     1       0.2790   \n",
       "5220     0.569          0.000099    3    0.0636    -7.144     1       0.0406   \n",
       "176962   0.432          0.006740    1    0.1970    -8.261     0       0.0324   \n",
       "131670   0.812          0.000000   12    0.2060    -5.059     1       0.0964   \n",
       "\n",
       "          tempo  valence  \n",
       "67421    99.958    0.112  \n",
       "88953   139.939    0.534  \n",
       "5220    110.005    0.827  \n",
       "176962   74.769    0.214  \n",
       "131670  101.973    0.834  "
      ]
     },
     "execution_count": 1,
     "metadata": {},
     "output_type": "execute_result"
    }
   ],
   "source": [
    "import numpy as np # linear algebra\n",
    "import pandas as pd # data processing, CSV file I/O (e.g. pd.read_csv)\n",
    "import math\n",
    "import matplotlib.pyplot as plt\n",
    "from sklearn import svm\n",
    "from sklearn.svm import SVC\n",
    "from sklearn.model_selection import train_test_split\n",
    "\n",
    "\n",
    "df = pd.read_csv(\"../input/ultimate-spotify-tracks-db/SpotifyFeatures.csv\")\n",
    "\n",
    "#removendo alguns gêneros menos relevantes ou que não possuem um tipo de som padrão\n",
    "filtro = ['Movie',\"\"\"Children’s Music\"\"\",\"Children's Music\",'World','Comedy','Indie','Soundtrack']\n",
    "df = df[~df['genre'].isin(filtro)] \n",
    "\n",
    "#deletando colunas que serão irrelevantes para a análise a ser feita\n",
    "#e também duplicatas (músicas com mais de um gênero)\n",
    "df = df.drop_duplicates(subset=['track_id'],keep='first')\n",
    "del df['artist_name']\n",
    "del df['track_id']\n",
    "del df['track_name']\n",
    "del df['time_signature']\n",
    "\n",
    "#mesclando gêneros semelhantes (necessário cuidado para não mesclar gêneros sonoricamente diferentes!)\n",
    "df[['genre']] = df[['genre']].replace(['Rap'],['Hip-Hop'])\n",
    "df[['genre']] = df[['genre']].replace(['Reggaeton'],['Reggae'])\n",
    "\n",
    "#transformando os valores strings em floats\n",
    "#https://www.kaggle.com/iqbalbasyar/spotify-genre-classification\n",
    "df['mode'].replace({'Major':1,'Minor':0},inplace=True)\n",
    "key_new = {'C':1, 'C#':2, 'D':3, 'D#':4, 'E':5, 'F':6, 'F#':7,\n",
    "          'G':9, 'G#':10, 'A':11, 'A#':12, 'B':12}\n",
    "df['key'] = df['key'].replace(key_new).astype(int)\n",
    "\n",
    "df.sample(5)"
   ]
  },
  {
   "cell_type": "code",
   "execution_count": 2,
   "id": "fa9b1639",
   "metadata": {
    "execution": {
     "iopub.execute_input": "2021-08-01T23:47:47.522433Z",
     "iopub.status.busy": "2021-08-01T23:47:47.521490Z",
     "iopub.status.idle": "2021-08-01T23:47:47.890443Z",
     "shell.execute_reply": "2021-08-01T23:47:47.889777Z",
     "shell.execute_reply.started": "2021-08-01T22:26:19.566729Z"
    },
    "papermill": {
     "duration": 0.421189,
     "end_time": "2021-08-01T23:47:47.890588",
     "exception": false,
     "start_time": "2021-08-01T23:47:47.469399",
     "status": "completed"
    },
    "tags": []
   },
   "outputs": [
    {
     "name": "stdout",
     "output_type": "stream",
     "text": [
      "A Capella      0.000884\n",
      "Pop            0.021533\n",
      "Rock           0.023175\n",
      "Soul           0.035126\n",
      "R&B            0.039925\n",
      "Country        0.054892\n",
      "Dance          0.059289\n",
      "Ska            0.059593\n",
      "Folk           0.059779\n",
      "Jazz           0.060002\n",
      "Opera          0.061502\n",
      "Blues          0.063107\n",
      "Classical      0.064704\n",
      "Anime          0.066368\n",
      "Hip-Hop        0.066516\n",
      "Alternative    0.067556\n",
      "Electronic     0.067957\n",
      "Reggae         0.128093\n",
      "Name: genre, dtype: float64\n"
     ]
    },
    {
     "data": {
      "image/png": "[encoded data removed]",
      "text/plain": [
       "<Figure size 432x288 with 1 Axes>"
      ]
     },
     "metadata": {
      "needs_background": "light"
     },
     "output_type": "display_data"
    }
   ],
   "source": [
    "cmap=plt.get_cmap('viridis')\n",
    "rescale= lambda pop: ( pop - np.min(pop) ) / ( np.max(pop) - np.min(pop) )\n",
    "\n",
    "porcentagens =  df['genre'].value_counts()/len(df)\n",
    "porcentagens = porcentagens.sort_values()\n",
    "aeiou = df['genre'].value_counts()/len(df)\n",
    "aeiou = aeiou.sort_values()\n",
    "porcentagens.plot(title='Proporção',kind='bar',color=cmap(rescale(porcentagens)))\n",
    "#aeiou.plot(title='proporção normal',kind='bar',color=cmap(rescale(aeiou)))\n",
    "print(porcentagens)"
   ]
  },
  {
   "cell_type": "code",
   "execution_count": 3,
   "id": "bd7830e8",
   "metadata": {
    "execution": {
     "iopub.execute_input": "2021-08-01T23:47:47.928722Z",
     "iopub.status.busy": "2021-08-01T23:47:47.927700Z",
     "iopub.status.idle": "2021-08-01T23:47:49.281741Z",
     "shell.execute_reply": "2021-08-01T23:47:49.282763Z",
     "shell.execute_reply.started": "2021-08-01T22:26:47.971448Z"
    },
    "papermill": {
     "duration": 1.378977,
     "end_time": "2021-08-01T23:47:49.282954",
     "exception": false,
     "start_time": "2021-08-01T23:47:47.903977",
     "status": "completed"
    },
    "tags": []
   },
   "outputs": [
    {
     "data": {
      "text/plain": [
       "<AxesSubplot:title={'center':'duration'}, xlabel='genre'>"
      ]
     },
     "execution_count": 3,
     "metadata": {},
     "output_type": "execute_result"
    },
    {
     "data": {
      "image/png": "[encoded data removed]",
      "text/plain": [
       "<Figure size 1080x360 with 2 Axes>"
      ]
     },
     "metadata": {
      "needs_background": "light"
     },
     "output_type": "display_data"
    },
    {
     "data": {
      "image/png": "[encoded data removed]",
      "text/plain": [
       "<Figure size 1080x792 with 2 Axes>"
      ]
     },
     "metadata": {
      "needs_background": "light"
     },
     "output_type": "display_data"
    }
   ],
   "source": [
    "#fazendo gráfico para analisar os fatores de cada gênero musical\n",
    "#fonte usar colormap: https://stackoverflow.com/questions/64068659/bar-chart-in-matplotlib-using-a-colormap\n",
    "    \n",
    "pop = df.groupby(['genre'])['popularity'].mean()\n",
    "pop = pop.sort_values()\n",
    "acoustic = df.groupby(['genre'])['acousticness'].mean()\n",
    "acoustic = acoustic.sort_values()\n",
    "\n",
    "dance = df.groupby(['genre'])['danceability'].mean()\n",
    "dance = dance.sort_values()\n",
    "duration = df.groupby(['genre'])['duration_ms'].mean()\n",
    "duration = duration.sort_values()\n",
    "\n",
    "\n",
    "#fig1,f1_axes = plt.subplots(ncols=2,nrows=2)\n",
    "f= plt.figure(figsize=(15,5))\n",
    "\n",
    "plt.subplot(1,2,1)\n",
    "pop.plot(title='Popularity',kind='bar',color=cmap(rescale(pop)))\n",
    "plt.subplot(1,2,2)\n",
    "acoustic.plot(title='Acousticness',kind='bar',color=cmap(rescale(acoustic)))\n",
    "\n",
    "f= plt.figure(figsize=(15,11))\n",
    "plt.subplot(2,2,3)\n",
    "dance.plot(title='danceability',kind='bar',color=cmap(rescale(dance)))\n",
    "plt.subplot(2,2,4)\n",
    "duration.plot(title='duration',kind='bar',color=cmap(rescale(duration)))"
   ]
  },
  {
   "cell_type": "code",
   "execution_count": 4,
   "id": "35804211",
   "metadata": {
    "execution": {
     "iopub.execute_input": "2021-08-01T23:47:49.333563Z",
     "iopub.status.busy": "2021-08-01T23:47:49.332832Z",
     "iopub.status.idle": "2021-08-01T23:47:50.467475Z",
     "shell.execute_reply": "2021-08-01T23:47:50.466912Z",
     "shell.execute_reply.started": "2021-08-01T22:27:35.268482Z"
    },
    "papermill": {
     "duration": 1.163555,
     "end_time": "2021-08-01T23:47:50.467627",
     "exception": false,
     "start_time": "2021-08-01T23:47:49.304072",
     "status": "completed"
    },
    "tags": []
   },
   "outputs": [
    {
     "data": {
      "text/plain": [
       "<AxesSubplot:title={'center':'loudness'}, xlabel='genre'>"
      ]
     },
     "execution_count": 4,
     "metadata": {},
     "output_type": "execute_result"
    },
    {
     "data": {
      "image/png": "[encoded data removed]",
      "text/plain": [
       "<Figure size 1080x360 with 2 Axes>"
      ]
     },
     "metadata": {
      "needs_background": "light"
     },
     "output_type": "display_data"
    },
    {
     "data": {
      "image/png": "[encoded data removed]",
      "text/plain": [
       "<Figure size 1080x792 with 2 Axes>"
      ]
     },
     "metadata": {
      "needs_background": "light"
     },
     "output_type": "display_data"
    }
   ],
   "source": [
    "energy = df.groupby(['genre'])['energy'].mean()\n",
    "energy = energy.sort_values()\n",
    "instrumental = df.groupby(['genre'])['instrumentalness'].mean()\n",
    "instrumental = instrumental.sort_values()\n",
    "\n",
    "liveness = df.groupby('genre')['liveness'].mean()\n",
    "liveness = liveness.sort_values()\n",
    "loudness = df.groupby(['genre'])['loudness'].mean()\n",
    "loudness = loudness.sort_values()\n",
    "\n",
    "f= plt.figure(figsize=(15,5))\n",
    "plt.subplot(1,2,1)\n",
    "energy.plot(title='energy',kind='bar',color=cmap(rescale(energy)))\n",
    "plt.subplot(1,2,2)\n",
    "instrumental.plot(title='instrumentalness',kind='bar',color=cmap(rescale(instrumental)))\n",
    "\n",
    "\n",
    "f= plt.figure(figsize=(15,11))\n",
    "plt.subplot(2,2,3)\n",
    "liveness.plot(title='liveness',kind='bar',color=cmap(rescale(liveness)))\n",
    "plt.subplot(2,2,4)\n",
    "loudness.plot(title='loudness',kind='bar',color=cmap(rescale(loudness)))"
   ]
  },
  {
   "cell_type": "code",
   "execution_count": 5,
   "id": "feaa4e03",
   "metadata": {
    "execution": {
     "iopub.execute_input": "2021-08-01T23:47:50.523651Z",
     "iopub.status.busy": "2021-08-01T23:47:50.517963Z",
     "iopub.status.idle": "2021-08-01T23:47:51.784282Z",
     "shell.execute_reply": "2021-08-01T23:47:51.783519Z",
     "shell.execute_reply.started": "2021-08-01T22:28:05.455514Z"
    },
    "papermill": {
     "duration": 1.29811,
     "end_time": "2021-08-01T23:47:51.784470",
     "exception": false,
     "start_time": "2021-08-01T23:47:50.486360",
     "status": "completed"
    },
    "tags": []
   },
   "outputs": [
    {
     "data": {
      "text/plain": [
       "<AxesSubplot:title={'center':'Mode'}, xlabel='genre'>"
      ]
     },
     "execution_count": 5,
     "metadata": {},
     "output_type": "execute_result"
    },
    {
     "data": {
      "image/png": "[encoded data removed]",
      "text/plain": [
       "<Figure size 1080x360 with 2 Axes>"
      ]
     },
     "metadata": {
      "needs_background": "light"
     },
     "output_type": "display_data"
    },
    {
     "data": {
      "image/png": "[encoded data removed]",
      "text/plain": [
       "<Figure size 1080x792 with 2 Axes>"
      ]
     },
     "metadata": {
      "needs_background": "light"
     },
     "output_type": "display_data"
    }
   ],
   "source": [
    "speechiness = df.groupby(['genre'])['speechiness'].mean()\n",
    "speechiness = speechiness.sort_values()\n",
    "tempo = df.groupby(['genre'])['tempo'].mean()\n",
    "tempo = tempo.sort_values()\n",
    "\n",
    "valence = df.groupby('genre')['valence'].mean()\n",
    "valence = valence.sort_values()\n",
    "key = df.groupby('genre')['key'].mean()\n",
    "key = key.sort_values()\n",
    "mode = df.groupby('genre')['mode'].mean()\n",
    "mode = mode.sort_values()\n",
    "\n",
    "f= plt.figure(figsize=(15,5))\n",
    "plt.subplot(1,2,1)\n",
    "speechiness.plot(title='speechiness',kind='bar',color=cmap(rescale(speechiness)))\n",
    "plt.subplot(1,2,2)\n",
    "tempo.plot(title='tempo',kind='bar',color=cmap(rescale(tempo)))\n",
    "\n",
    "\n",
    "f= plt.figure(figsize=(15,11))\n",
    "plt.subplot(2,2,3)\n",
    "liveness.plot(title='valence',kind='bar',color=cmap(rescale(valence)))\n",
    "plt.subplot(2,2,4)\n",
    "mode.plot(title='Mode',kind='bar',color=cmap(rescale(mode)))"
   ]
  },
  {
   "cell_type": "code",
   "execution_count": 6,
   "id": "6bcc057e",
   "metadata": {
    "execution": {
     "iopub.execute_input": "2021-08-01T23:47:51.837558Z",
     "iopub.status.busy": "2021-08-01T23:47:51.836578Z",
     "iopub.status.idle": "2021-08-01T23:47:51.855652Z",
     "shell.execute_reply": "2021-08-01T23:47:51.854968Z",
     "shell.execute_reply.started": "2021-08-01T22:28:48.760918Z"
    },
    "papermill": {
     "duration": 0.049818,
     "end_time": "2021-08-01T23:47:51.855836",
     "exception": false,
     "start_time": "2021-08-01T23:47:51.806018",
     "status": "completed"
    },
    "tags": []
   },
   "outputs": [
    {
     "data": {
      "text/plain": [
       "(37, 121)"
      ]
     },
     "execution_count": 6,
     "metadata": {},
     "output_type": "execute_result"
    }
   ],
   "source": [
    "t = len(df)\n",
    "tamanho = int(0.0009*t)\n",
    "treino = df.sample(tamanho)\n",
    "\n",
    "tamanho = int(0.00028*t)\n",
    "teste = df.sample(tamanho)\n",
    "teste = teste[~teste.isin(treino)]\n",
    "teste = teste[teste.genre.notnull()]\n",
    "len(teste),len(treino)"
   ]
  },
  {
   "cell_type": "code",
   "execution_count": 7,
   "id": "d9479dcb",
   "metadata": {
    "execution": {
     "iopub.execute_input": "2021-08-01T23:47:51.912598Z",
     "iopub.status.busy": "2021-08-01T23:47:51.907372Z",
     "iopub.status.idle": "2021-08-01T23:47:51.917044Z",
     "shell.execute_reply": "2021-08-01T23:47:51.916523Z",
     "shell.execute_reply.started": "2021-08-01T22:29:11.867322Z"
    },
    "papermill": {
     "duration": 0.039791,
     "end_time": "2021-08-01T23:47:51.917203",
     "exception": false,
     "start_time": "2021-08-01T23:47:51.877412",
     "status": "completed"
    },
    "tags": []
   },
   "outputs": [],
   "source": [
    "def d_euc(distancia,teste,pop,acoustic,dance,energy,instrumental,liveness,loudness,speechiness,tempo,valence,key,mode):\n",
    "    for i in range(0,len(teste)-1):\n",
    "        dist = math.sqrt( (teste.iloc[i][1]-pop)**2 + (teste.iloc[i][2]-acoustic)**2 + (teste.iloc[i][3]-dance)**2 +\n",
    "                         (teste.iloc[i][5]-energy)**2 + (teste.iloc[i][6]-instrumental)**2 + (teste.iloc[i][8]-liveness)**2 +\n",
    "                         (teste.iloc[i][9]-loudness)**2 + (teste.iloc[i][11]-speechiness)**2 + (teste.iloc[i][12]-tempo)**2 +\n",
    "                         (teste.iloc[i][13]-valence)**2 +(teste.iloc[i][7]-key)**2 + (teste.iloc[i][10]-mode)**2)\n",
    "        distancia.append(dist)\n",
    "\n",
    "def d_mht(distancia,teste,pop,acoustic,dance,energy,instrumental,liveness,loudness,speechiness,tempo,valence,key,mode):\n",
    "     for i in range(0,len(teste)-1):\n",
    "        dist = (abs(teste.iloc[i][1]-pop) + abs(teste.iloc[i][2]-acoustic) + abs(teste.iloc[i][3]-dance) +\n",
    "                abs(teste.iloc[i][5]-energy) + abs(teste.iloc[i][6]-instrumental) + abs(teste.iloc[i][8]-liveness) +\n",
    "                abs(teste.iloc[i][9]-loudness) + abs(teste.iloc[i][11]-speechiness) + abs(teste.iloc[i][12]-tempo) +\n",
    "                abs(teste.iloc[i][13]-valence) + abs(teste.iloc[i][7]-key) + abs(teste.iloc[i][10]-mode))\n",
    "        distancia.append(dist)"
   ]
  },
  {
   "cell_type": "code",
   "execution_count": 8,
   "id": "57b6b0cd",
   "metadata": {
    "execution": {
     "iopub.execute_input": "2021-08-01T23:47:51.991466Z",
     "iopub.status.busy": "2021-08-01T23:47:51.986207Z",
     "iopub.status.idle": "2021-08-01T23:48:00.882593Z",
     "shell.execute_reply": "2021-08-01T23:48:00.881833Z",
     "shell.execute_reply.started": "2021-08-01T22:29:36.162402Z"
    },
    "papermill": {
     "duration": 8.94358,
     "end_time": "2021-08-01T23:48:00.882770",
     "exception": false,
     "start_time": "2021-08-01T23:47:51.939190",
     "status": "completed"
    },
    "tags": []
   },
   "outputs": [
    {
     "name": "stdout",
     "output_type": "stream",
     "text": [
      "Calculando a distância Euclidiana... \n",
      "numero de testes:  37\n",
      "29 erros de 37 igual a uma taxa de acerto de 21.621621621621628 %\n"
     ]
    }
   ],
   "source": [
    "#euclidiano\n",
    "distancia = []\n",
    "conterros = 0;\n",
    "print(\"Calculando a distância Euclidiana... \")\n",
    "print(\"numero de testes: \",len(teste))\n",
    "for i in range(0,len(teste)):\n",
    "    d_euc(distancia,treino,teste.iloc[i][1],teste.iloc[i][2],teste.iloc[i][3],teste.iloc[i][5],teste.iloc[i][6],\n",
    "          teste.iloc[i][8],teste.iloc[i][9],teste.iloc[i][11],teste.iloc[i][12],teste.iloc[i][13],\n",
    "          teste.iloc[i][7],teste.iloc[i][10])\n",
    "    menor = min(distancia)\n",
    "    menor_dist = distancia.index(menor)\n",
    "    #print(menor,menor_dist)\n",
    "    #print(\"Menor distancia: \",menor,\"\\nIndice do elemento com menor distancia: \",menor_dist)\n",
    "    #print(\"Esse elemento é do genero: \",treino.iloc[menor_dist][0],\"\\n\")\n",
    "    #print(\"Menor distancia: \",menor)\n",
    "    #print(\"Genero chute: \",treino.iloc[menor_dist][0])\n",
    "    if(treino.iloc[menor_dist][0] != teste.iloc[i][0] ):\n",
    "        #print(\"\\ngenero certo: \",teste.iloc[i][0],\"\\n\")\n",
    "        conterros +=1\n",
    "    #else:\n",
    "        #print(\"\\n\")\n",
    "    distancia = []\n",
    "print(conterros,\"erros de\",len(teste),\"igual a uma taxa de acerto de\",100-(conterros*100)/len(teste),\"%\")"
   ]
  },
  {
   "cell_type": "code",
   "execution_count": 9,
   "id": "27f9bbcc",
   "metadata": {
    "execution": {
     "iopub.execute_input": "2021-08-01T23:48:00.957495Z",
     "iopub.status.busy": "2021-08-01T23:48:00.952076Z",
     "iopub.status.idle": "2021-08-01T23:48:09.556270Z",
     "shell.execute_reply": "2021-08-01T23:48:09.557051Z",
     "shell.execute_reply.started": "2021-08-01T22:29:52.727539Z"
    },
    "papermill": {
     "duration": 8.652822,
     "end_time": "2021-08-01T23:48:09.557303",
     "exception": false,
     "start_time": "2021-08-01T23:48:00.904481",
     "status": "completed"
    },
    "tags": []
   },
   "outputs": [
    {
     "name": "stdout",
     "output_type": "stream",
     "text": [
      "Calculando a distância de Manhattan... \n",
      "numero de testes:  37\n",
      "29 erros de 37 igual a uma taxa de acerto de 21.621621621621628 %\n"
     ]
    }
   ],
   "source": [
    "#manhattan\n",
    "distancia = []\n",
    "conterros = 0;\n",
    "print(\"Calculando a distância de Manhattan... \")\n",
    "print(\"numero de testes: \",len(teste))\n",
    "for i in range(0,len(teste)):\n",
    "    d_mht(distancia,treino,teste.iloc[i][1],teste.iloc[i][2],teste.iloc[i][3],teste.iloc[i][5],teste.iloc[i][6],\n",
    "          teste.iloc[i][8],teste.iloc[i][9],teste.iloc[i][11],teste.iloc[i][12],teste.iloc[i][13],\n",
    "          teste.iloc[i][7],teste.iloc[i][10])\n",
    "    menor = min(distancia)\n",
    "    menor_dist = distancia.index(menor)\n",
    "    #print(menor,menor_dist)\n",
    "    #print(\"Menor distancia: \",menor,\"\\nIndice do elemento com menor distancia: \",menor_dist)\n",
    "    #print(\"Esse elemento é do genero: \",treino.iloc[menor_dist][0],\"\\n\")\n",
    "    #print(\"Menor distancia: \",menor)\n",
    "    #print(\"Genero chute: \",treino.iloc[menor_dist][0])\n",
    "    if(treino.iloc[menor_dist][0] != teste.iloc[i][0] ):\n",
    "        #print(\"\\ngenero certo: \",teste.iloc[i][0],\"\\n\")\n",
    "        conterros +=1\n",
    "    #else:\n",
    "        #print(\"\\n\")\n",
    "    distancia = []\n",
    "print(conterros,\"erros de\",len(teste),\"igual a uma taxa de acerto de\",100-(conterros*100)/len(teste),\"%\")"
   ]
  },
  {
   "cell_type": "code",
   "execution_count": 10,
   "id": "14e34efa",
   "metadata": {
    "execution": {
     "iopub.execute_input": "2021-08-01T23:48:09.623966Z",
     "iopub.status.busy": "2021-08-01T23:48:09.623137Z",
     "iopub.status.idle": "2021-08-01T23:48:09.638809Z",
     "shell.execute_reply": "2021-08-01T23:48:09.638248Z",
     "shell.execute_reply.started": "2021-08-01T22:30:19.022228Z"
    },
    "papermill": {
     "duration": 0.057992,
     "end_time": "2021-08-01T23:48:09.638948",
     "exception": false,
     "start_time": "2021-08-01T23:48:09.580956",
     "status": "completed"
    },
    "tags": []
   },
   "outputs": [
    {
     "name": "stdout",
     "output_type": "stream",
     "text": [
      "10 erros de 37 igual a uma taxa de acerto de 72.97297297297297 %\n"
     ]
    }
   ],
   "source": [
    "def hunt(teste):\n",
    "#algoritmo de Hunt\n",
    "    #i,1 = popularity;   i,2 = acousticness;       i,3 = danceability\n",
    "    #i,4 = duration_ms;  i,5 = energy;             i,6 = instrumentalness; \n",
    "    #i,7 = key;          i,8 = liveness;           i,9 = loudness\n",
    "    #i,10 = mode;        i,11 = speechiness;       i,12 = tempo\n",
    "    #i,13 = valence\n",
    "    conterros = 0\n",
    "    \n",
    "    for i in range(0,len(teste)): \n",
    "        if(teste.iloc[i,6]>0.1):\n",
    "            #Classical, Eletronic, Blues, Jazz, Anime, Opera\n",
    "            if(teste.iloc[i,9]<-10):     #Classical, Opera\n",
    "                if(teste.iloc[i,1]<10):  #Opera\n",
    "                    if(teste.iloc[i,0]!='Opera'):\n",
    "                        conterros+=1\n",
    "                    else:                #Classical\n",
    "                        if(teste.iloc[i,0]!='Classical'):\n",
    "                            conterros+=1\n",
    "            else: #Eletronic, Blues, Jazz, Anime, Opera\n",
    "                if(teste.iloc[i,10]<0.5): #Blues\n",
    "                    if(teste.iloc[i,0]!='Blues'):\n",
    "                            conterros+=1\n",
    "                else: #Eletronic, Jazz, Anime\n",
    "                    if(teste.iloc[i,5]<0.5): #Jazz\n",
    "                        if(teste.iloc[i,0]!='Jazz'):  #Eletronic, Anime\n",
    "                            conterros+=1\n",
    "                    elif(teste.iloc[i,1]<28):   #Anime\n",
    "                        if(teste.iloc[i,0]!='Anime'):\n",
    "                            conterros+=1\n",
    "                    else:  #Eletronic\n",
    "                        if(teste.iloc[i,0]!='Eletronic'):\n",
    "                            conterros+=1\n",
    "        #Reggae,Country,A Capella, Hip-Hop, Pop, R&B, Dance, Ska, Alternative, Soul, Folk, Rock\n",
    "        elif(teste.iloc[i,2]>0.4):  #A Capella, Folk, Soul\n",
    "                if(teste.iloc[i,1]<10):\n",
    "                    #A Capella\n",
    "                    if(teste.iloc[i,0]!='A Capella'):\n",
    "                            conterros+=1\n",
    "                else: #Folk, Soul\n",
    "                    if(teste.iloc[i,3]<0.7):\n",
    "                        #Folk\n",
    "                        if(teste.iloc[i,0]!='Folk'):\n",
    "                            conterros+=1\n",
    "                    else:  #Soul\n",
    "                        if(teste.iloc[i,0]!='Soul'):\n",
    "                            conterros+=1\n",
    "        #Reggae,Country, Hip-Hop, Pop, R&B, Dance, Ska, Alternative, Rock\n",
    "        elif (teste.iloc[i,11]>0.15):  #Hip-Hop, Reggae, R&B\n",
    "            if(teste.iloc[i,1]>54):\n",
    "                #Hip-Hop\n",
    "                if(teste.iloc[i,0]!='Hip-Hop'):\n",
    "                            conterros+=1\n",
    "            elif(teste.iloc[i,13]>0.52):\n",
    "                #Reggae\n",
    "                if(teste.iloc[i,0]!='Reggae'):\n",
    "                            conterros+=1\n",
    "            else:\n",
    "                #R&B\n",
    "                if(teste.iloc[i,0]!='R&B'):\n",
    "                            conterros+=1\n",
    "        #Country, Pop, Dance, Ska, Alternative, Rock\n",
    "        elif(teste.iloc[i,10]>10):  #Country, Ska, Rock\n",
    "            if(teste.iloc[i,5]>72):\n",
    "                #Ska\n",
    "                if(teste.iloc[i,0]!='Ska'):\n",
    "                            conterros+=1\n",
    "            elif(teste.iloc[i,6]>0.03):\n",
    "                #Rock\n",
    "                if(teste.iloc[i,0]!='Rock'):\n",
    "                            conterros+=1\n",
    "            else:\n",
    "                #Country\n",
    "                if(teste.iloc[i,0]!='Country'):\n",
    "                            conterros+=1\n",
    "        #Pop, Dance,Alternative\n",
    "        elif(teste.iloc[i,2]<2): #Dance, Alternative\n",
    "            if(teste.iloc[i,6]>0.4): \n",
    "                #Alternative\n",
    "                if(teste.iloc[i,0]!='Alternative'):\n",
    "                            conterros+=1\n",
    "                else:\n",
    "                    #Dance\n",
    "                    if(teste.iloc[i,0]!='Dance'):\n",
    "                            conterros+=1\n",
    "        else:\n",
    "            #Pop\n",
    "            if(teste.iloc[i,0]!='Pop'):\n",
    "                            conterros+=1\n",
    "                \n",
    "                        \n",
    "\n",
    "    print(conterros,\"erros de\",len(teste),\"igual a uma taxa de acerto de\",100-(conterros*100)/len(teste),\"%\")\n",
    "        \n",
    "hunt(teste)"
   ]
  },
  {
   "cell_type": "code",
   "execution_count": 11,
   "id": "b38d79c2",
   "metadata": {
    "execution": {
     "iopub.execute_input": "2021-08-01T23:48:09.708839Z",
     "iopub.status.busy": "2021-08-01T23:48:09.707707Z",
     "iopub.status.idle": "2021-08-01T23:48:09.712266Z",
     "shell.execute_reply": "2021-08-01T23:48:09.712765Z",
     "shell.execute_reply.started": "2021-08-01T22:31:57.77462Z"
    },
    "papermill": {
     "duration": 0.050605,
     "end_time": "2021-08-01T23:48:09.712945",
     "exception": false,
     "start_time": "2021-08-01T23:48:09.662340",
     "status": "completed"
    },
    "tags": []
   },
   "outputs": [
    {
     "data": {
      "text/html": [
       "<div>\n",
       "<style scoped>\n",
       "    .dataframe tbody tr th:only-of-type {\n",
       "        vertical-align: middle;\n",
       "    }\n",
       "\n",
       "    .dataframe tbody tr th {\n",
       "        vertical-align: top;\n",
       "    }\n",
       "\n",
       "    .dataframe thead th {\n",
       "        text-align: right;\n",
       "    }\n",
       "</style>\n",
       "<table border=\"1\" class=\"dataframe\">\n",
       "  <thead>\n",
       "    <tr style=\"text-align: right;\">\n",
       "      <th></th>\n",
       "      <th>genre</th>\n",
       "      <th>popularity</th>\n",
       "      <th>acousticness</th>\n",
       "      <th>danceability</th>\n",
       "      <th>duration_ms</th>\n",
       "      <th>energy</th>\n",
       "      <th>instrumentalness</th>\n",
       "      <th>key</th>\n",
       "      <th>liveness</th>\n",
       "      <th>loudness</th>\n",
       "      <th>mode</th>\n",
       "      <th>speechiness</th>\n",
       "      <th>tempo</th>\n",
       "      <th>valence</th>\n",
       "    </tr>\n",
       "  </thead>\n",
       "  <tbody>\n",
       "    <tr>\n",
       "      <th>134799</th>\n",
       "      <td>Reggae</td>\n",
       "      <td>28</td>\n",
       "      <td>0.1780</td>\n",
       "      <td>0.733</td>\n",
       "      <td>301827</td>\n",
       "      <td>0.723</td>\n",
       "      <td>0.00000</td>\n",
       "      <td>12</td>\n",
       "      <td>0.0794</td>\n",
       "      <td>-5.221</td>\n",
       "      <td>1</td>\n",
       "      <td>0.0945</td>\n",
       "      <td>95.675</td>\n",
       "      <td>0.685</td>\n",
       "    </tr>\n",
       "    <tr>\n",
       "      <th>36560</th>\n",
       "      <td>Electronic</td>\n",
       "      <td>33</td>\n",
       "      <td>0.0593</td>\n",
       "      <td>0.655</td>\n",
       "      <td>245080</td>\n",
       "      <td>0.687</td>\n",
       "      <td>0.00337</td>\n",
       "      <td>1</td>\n",
       "      <td>0.3740</td>\n",
       "      <td>-7.761</td>\n",
       "      <td>1</td>\n",
       "      <td>0.0310</td>\n",
       "      <td>124.982</td>\n",
       "      <td>0.170</td>\n",
       "    </tr>\n",
       "    <tr>\n",
       "      <th>2140</th>\n",
       "      <td>Country</td>\n",
       "      <td>40</td>\n",
       "      <td>0.0073</td>\n",
       "      <td>0.684</td>\n",
       "      <td>205573</td>\n",
       "      <td>0.921</td>\n",
       "      <td>0.00000</td>\n",
       "      <td>1</td>\n",
       "      <td>0.1000</td>\n",
       "      <td>-4.296</td>\n",
       "      <td>1</td>\n",
       "      <td>0.0500</td>\n",
       "      <td>125.983</td>\n",
       "      <td>0.681</td>\n",
       "    </tr>\n",
       "    <tr>\n",
       "      <th>179932</th>\n",
       "      <td>Jazz</td>\n",
       "      <td>41</td>\n",
       "      <td>0.5010</td>\n",
       "      <td>0.783</td>\n",
       "      <td>208800</td>\n",
       "      <td>0.480</td>\n",
       "      <td>0.53400</td>\n",
       "      <td>9</td>\n",
       "      <td>0.1430</td>\n",
       "      <td>-6.910</td>\n",
       "      <td>1</td>\n",
       "      <td>0.2850</td>\n",
       "      <td>199.850</td>\n",
       "      <td>0.778</td>\n",
       "    </tr>\n",
       "    <tr>\n",
       "      <th>14816</th>\n",
       "      <td>Dance</td>\n",
       "      <td>71</td>\n",
       "      <td>0.1810</td>\n",
       "      <td>0.687</td>\n",
       "      <td>185440</td>\n",
       "      <td>0.444</td>\n",
       "      <td>0.00000</td>\n",
       "      <td>7</td>\n",
       "      <td>0.5330</td>\n",
       "      <td>-5.769</td>\n",
       "      <td>0</td>\n",
       "      <td>0.0554</td>\n",
       "      <td>61.970</td>\n",
       "      <td>0.407</td>\n",
       "    </tr>\n",
       "  </tbody>\n",
       "</table>\n",
       "</div>"
      ],
      "text/plain": [
       "             genre  popularity  acousticness  danceability  duration_ms  \\\n",
       "134799      Reggae          28        0.1780         0.733       301827   \n",
       "36560   Electronic          33        0.0593         0.655       245080   \n",
       "2140       Country          40        0.0073         0.684       205573   \n",
       "179932        Jazz          41        0.5010         0.783       208800   \n",
       "14816        Dance          71        0.1810         0.687       185440   \n",
       "\n",
       "        energy  instrumentalness  key  liveness  loudness  mode  speechiness  \\\n",
       "134799   0.723           0.00000   12    0.0794    -5.221     1       0.0945   \n",
       "36560    0.687           0.00337    1    0.3740    -7.761     1       0.0310   \n",
       "2140     0.921           0.00000    1    0.1000    -4.296     1       0.0500   \n",
       "179932   0.480           0.53400    9    0.1430    -6.910     1       0.2850   \n",
       "14816    0.444           0.00000    7    0.5330    -5.769     0       0.0554   \n",
       "\n",
       "          tempo  valence  \n",
       "134799   95.675    0.685  \n",
       "36560   124.982    0.170  \n",
       "2140    125.983    0.681  \n",
       "179932  199.850    0.778  \n",
       "14816    61.970    0.407  "
      ]
     },
     "execution_count": 11,
     "metadata": {},
     "output_type": "execute_result"
    }
   ],
   "source": [
    "df2 = df.sample(121)\n",
    "df2.head()"
   ]
  },
  {
   "cell_type": "code",
   "execution_count": 12,
   "id": "3431d498",
   "metadata": {
    "execution": {
     "iopub.execute_input": "2021-08-01T23:48:09.762965Z",
     "iopub.status.busy": "2021-08-01T23:48:09.762295Z",
     "iopub.status.idle": "2021-08-01T23:48:09.782372Z",
     "shell.execute_reply": "2021-08-01T23:48:09.781818Z",
     "shell.execute_reply.started": "2021-08-01T22:31:59.307559Z"
    },
    "papermill": {
     "duration": 0.046091,
     "end_time": "2021-08-01T23:48:09.782520",
     "exception": false,
     "start_time": "2021-08-01T23:48:09.736429",
     "status": "completed"
    },
    "tags": []
   },
   "outputs": [
    {
     "data": {
      "text/plain": [
       "0.1891891891891892"
      ]
     },
     "execution_count": 12,
     "metadata": {},
     "output_type": "execute_result"
    }
   ],
   "source": [
    "#SVM\n",
    "x = df2.drop(columns=['genre'])\n",
    "y = df2['genre']\n",
    "\n",
    "x_train, x_test, y_train, y_test = train_test_split(x,y,test_size=0.3,random_state=13)\n",
    "\n",
    "clf = svm.SVC(C=1,kernel='rbf')\n",
    "\n",
    "clf.fit(x_train,y_train)\n",
    "clf.predict(x_test)\n",
    "clf.score(x_test,y_test)"
   ]
  }
 ],
 "metadata": {
  "kernelspec": {
   "display_name": "Python 3",
   "language": "python",
   "name": "python3"
  },
  "language_info": {
   "codemirror_mode": {
    "name": "ipython",
    "version": 3
   },
   "file_extension": ".py",
   "mimetype": "text/x-python",
   "name": "python",
   "nbconvert_exporter": "python",
   "pygments_lexer": "ipython3",
   "version": "3.7.10"
  },
  "papermill": {
   "default_parameters": {},
   "duration": 35.593512,
   "end_time": "2021-08-01T23:48:10.617131",
   "environment_variables": {},
   "exception": null,
   "input_path": "__notebook__.ipynb",
   "output_path": "__notebook__.ipynb",
   "parameters": {},
   "start_time": "2021-08-01T23:47:35.023619",
   "version": "2.3.3"
  }
 },
 "nbformat": 4,
 "nbformat_minor": 5
}
